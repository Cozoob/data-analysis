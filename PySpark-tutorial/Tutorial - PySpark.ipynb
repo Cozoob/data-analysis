{
 "cells": [
  {
   "cell_type": "markdown",
   "metadata": {},
   "source": [
    "# 1 - Basic operations with dataframes"
   ]
  },
  {
   "cell_type": "code",
   "execution_count": 19,
   "metadata": {},
   "outputs": [
    {
     "name": "stdout",
     "output_type": "stream",
     "text": [
      "Requirement already satisfied: pyspark in d:\\users\\mnkoz\\anaconda3\\lib\\site-packages (3.2.1)\n",
      "Requirement already satisfied: py4j==0.10.9.3 in d:\\users\\mnkoz\\anaconda3\\lib\\site-packages (from pyspark) (0.10.9.3)\n"
     ]
    }
   ],
   "source": [
    "!pip install pyspark"
   ]
  },
  {
   "cell_type": "code",
   "execution_count": 113,
   "metadata": {},
   "outputs": [],
   "source": [
    "from pyspark.sql import SparkSession"
   ]
  },
  {
   "cell_type": "code",
   "execution_count": 114,
   "metadata": {},
   "outputs": [],
   "source": [
    "spark = SparkSession.builder.appName('Dataframe').getOrCreate()"
   ]
  },
  {
   "cell_type": "code",
   "execution_count": 115,
   "metadata": {},
   "outputs": [
    {
     "data": {
      "text/html": [
       "\n",
       "            <div>\n",
       "                <p><b>SparkSession - in-memory</b></p>\n",
       "                \n",
       "        <div>\n",
       "            <p><b>SparkContext</b></p>\n",
       "\n",
       "            <p><a href=\"http://DESKTOP-0M10ST2:4040\">Spark UI</a></p>\n",
       "\n",
       "            <dl>\n",
       "              <dt>Version</dt>\n",
       "                <dd><code>v3.2.1</code></dd>\n",
       "              <dt>Master</dt>\n",
       "                <dd><code>local[*]</code></dd>\n",
       "              <dt>AppName</dt>\n",
       "                <dd><code>Dataframe</code></dd>\n",
       "            </dl>\n",
       "        </div>\n",
       "        \n",
       "            </div>\n",
       "        "
      ],
      "text/plain": [
       "<pyspark.sql.session.SparkSession at 0x1b281ea21f0>"
      ]
     },
     "execution_count": 115,
     "metadata": {},
     "output_type": "execute_result"
    }
   ],
   "source": [
    "spark"
   ]
  },
  {
   "cell_type": "markdown",
   "metadata": {},
   "source": [
    "### Read the dataset"
   ]
  },
  {
   "cell_type": "code",
   "execution_count": 37,
   "metadata": {},
   "outputs": [
    {
     "name": "stdout",
     "output_type": "stream",
     "text": [
      "+------+---+----------+\n",
      "|  Name|Age|Experience|\n",
      "+------+---+----------+\n",
      "| Julia| 20|       0.0|\n",
      "|Marcin| 22|       1.0|\n",
      "|Janusz| 30|      10.0|\n",
      "+------+---+----------+\n",
      "\n"
     ]
    }
   ],
   "source": [
    "df = spark.read.csv('test1.csv', inferSchema=True, header=True)\n",
    "df.show()"
   ]
  },
  {
   "cell_type": "markdown",
   "metadata": {},
   "source": [
    "### Check the schema"
   ]
  },
  {
   "cell_type": "code",
   "execution_count": 38,
   "metadata": {},
   "outputs": [
    {
     "name": "stdout",
     "output_type": "stream",
     "text": [
      "root\n",
      " |-- Name: string (nullable = true)\n",
      " |-- Age: integer (nullable = true)\n",
      " |-- Experience: double (nullable = true)\n",
      "\n"
     ]
    }
   ],
   "source": [
    "df.printSchema()"
   ]
  },
  {
   "cell_type": "markdown",
   "metadata": {},
   "source": [
    "### Reading rows and columns of dataframe"
   ]
  },
  {
   "cell_type": "code",
   "execution_count": 39,
   "metadata": {},
   "outputs": [
    {
     "data": {
      "text/plain": [
       "['Name', 'Age', 'Experience']"
      ]
     },
     "execution_count": 39,
     "metadata": {},
     "output_type": "execute_result"
    }
   ],
   "source": [
    "df.columns"
   ]
  },
  {
   "cell_type": "code",
   "execution_count": 40,
   "metadata": {},
   "outputs": [
    {
     "data": {
      "text/plain": [
       "[Row(Name='Julia', Age=20, Experience=0.0),\n",
       " Row(Name='Marcin', Age=22, Experience=1.0)]"
      ]
     },
     "execution_count": 40,
     "metadata": {},
     "output_type": "execute_result"
    }
   ],
   "source": [
    "df.head(2)"
   ]
  },
  {
   "cell_type": "code",
   "execution_count": 42,
   "metadata": {},
   "outputs": [
    {
     "name": "stdout",
     "output_type": "stream",
     "text": [
      "+------+\n",
      "|  Name|\n",
      "+------+\n",
      "| Julia|\n",
      "|Marcin|\n",
      "|Janusz|\n",
      "+------+\n",
      "\n"
     ]
    }
   ],
   "source": [
    "df.select('Name').show()"
   ]
  },
  {
   "cell_type": "code",
   "execution_count": 43,
   "metadata": {},
   "outputs": [
    {
     "name": "stdout",
     "output_type": "stream",
     "text": [
      "+------+----------+\n",
      "|  Name|Experience|\n",
      "+------+----------+\n",
      "| Julia|       0.0|\n",
      "|Marcin|       1.0|\n",
      "|Janusz|      10.0|\n",
      "+------+----------+\n",
      "\n"
     ]
    }
   ],
   "source": [
    "df.select(['Name', 'Experience']).show()"
   ]
  },
  {
   "cell_type": "code",
   "execution_count": 44,
   "metadata": {},
   "outputs": [
    {
     "data": {
      "text/plain": [
       "[('Name', 'string'), ('Age', 'int'), ('Experience', 'double')]"
      ]
     },
     "execution_count": 44,
     "metadata": {},
     "output_type": "execute_result"
    }
   ],
   "source": [
    "df.dtypes"
   ]
  },
  {
   "cell_type": "code",
   "execution_count": 45,
   "metadata": {},
   "outputs": [
    {
     "name": "stdout",
     "output_type": "stream",
     "text": [
      "+-------+------+-----------------+------------------+\n",
      "|summary|  Name|              Age|        Experience|\n",
      "+-------+------+-----------------+------------------+\n",
      "|  count|     3|                3|                 3|\n",
      "|   mean|  null|             24.0|3.6666666666666665|\n",
      "| stddev|  null|5.291502622129181| 5.507570547286102|\n",
      "|    min|Janusz|               20|               0.0|\n",
      "|    max|Marcin|               30|              10.0|\n",
      "+-------+------+-----------------+------------------+\n",
      "\n"
     ]
    }
   ],
   "source": [
    "df.describe().show()"
   ]
  },
  {
   "cell_type": "markdown",
   "metadata": {},
   "source": [
    "### Adding columns in dataframe"
   ]
  },
  {
   "cell_type": "code",
   "execution_count": 48,
   "metadata": {},
   "outputs": [
    {
     "name": "stdout",
     "output_type": "stream",
     "text": [
      "+------+---+----------+-----------------------+\n",
      "|  Name|Age|Experience|Eperience after 2 years|\n",
      "+------+---+----------+-----------------------+\n",
      "| Julia| 20|       0.0|                    2.0|\n",
      "|Marcin| 22|       1.0|                    3.0|\n",
      "|Janusz| 30|      10.0|                   12.0|\n",
      "+------+---+----------+-----------------------+\n",
      "\n"
     ]
    }
   ],
   "source": [
    "df = df.withColumn('Eperience after 2 years', df['Experience'] + 2)\n",
    "df.show()"
   ]
  },
  {
   "cell_type": "markdown",
   "metadata": {},
   "source": [
    "### Dropping columns in dataframe"
   ]
  },
  {
   "cell_type": "code",
   "execution_count": 50,
   "metadata": {},
   "outputs": [
    {
     "name": "stdout",
     "output_type": "stream",
     "text": [
      "+------+---+----------+\n",
      "|  Name|Age|Experience|\n",
      "+------+---+----------+\n",
      "| Julia| 20|       0.0|\n",
      "|Marcin| 22|       1.0|\n",
      "|Janusz| 30|      10.0|\n",
      "+------+---+----------+\n",
      "\n"
     ]
    }
   ],
   "source": [
    "df = df.drop('Eperience after 2 years')\n",
    "df.show()"
   ]
  },
  {
   "cell_type": "markdown",
   "metadata": {},
   "source": [
    "### Renaming columns"
   ]
  },
  {
   "cell_type": "code",
   "execution_count": 51,
   "metadata": {},
   "outputs": [
    {
     "name": "stdout",
     "output_type": "stream",
     "text": [
      "+--------+---+----------+\n",
      "|New Name|Age|Experience|\n",
      "+--------+---+----------+\n",
      "|   Julia| 20|       0.0|\n",
      "|  Marcin| 22|       1.0|\n",
      "|  Janusz| 30|      10.0|\n",
      "+--------+---+----------+\n",
      "\n"
     ]
    }
   ],
   "source": [
    "df = df.withColumnRenamed('Name', 'New Name')\n",
    "df.show()"
   ]
  },
  {
   "cell_type": "markdown",
   "metadata": {},
   "source": [
    "# 2 - Handling missing values"
   ]
  },
  {
   "cell_type": "code",
   "execution_count": 54,
   "metadata": {},
   "outputs": [
    {
     "name": "stdout",
     "output_type": "stream",
     "text": [
      "+------+----+----------+--------+\n",
      "|  Name| Age|Experience|  Salary|\n",
      "+------+----+----------+--------+\n",
      "| Julia|  20|         0|    null|\n",
      "|Marcin|  22|         1| 12000.0|\n",
      "|Janusz|  30|        10| 10000.0|\n",
      "|Maciej|  29|         9|  5000.0|\n",
      "|Lukasz|null|        32|100000.0|\n",
      "|   Ala|  25|      null|  4000.0|\n",
      "+------+----+----------+--------+\n",
      "\n"
     ]
    }
   ],
   "source": [
    "df = spark.read.csv('./test2.csv', header=True, inferSchema=True)\n",
    "df.show()"
   ]
  },
  {
   "cell_type": "markdown",
   "metadata": {},
   "source": [
    "### Dropping the rows with null values"
   ]
  },
  {
   "cell_type": "code",
   "execution_count": 56,
   "metadata": {},
   "outputs": [
    {
     "name": "stdout",
     "output_type": "stream",
     "text": [
      "+------+---+----------+-------+\n",
      "|  Name|Age|Experience| Salary|\n",
      "+------+---+----------+-------+\n",
      "|Marcin| 22|         1|12000.0|\n",
      "|Janusz| 30|        10|10000.0|\n",
      "|Maciej| 29|         9| 5000.0|\n",
      "+------+---+----------+-------+\n",
      "\n"
     ]
    }
   ],
   "source": [
    "df.na.drop().show()"
   ]
  },
  {
   "cell_type": "markdown",
   "metadata": {},
   "source": [
    "### Treshhold"
   ]
  },
  {
   "cell_type": "code",
   "execution_count": 59,
   "metadata": {},
   "outputs": [
    {
     "name": "stdout",
     "output_type": "stream",
     "text": [
      "+------+----+----------+--------+\n",
      "|  Name| Age|Experience|  Salary|\n",
      "+------+----+----------+--------+\n",
      "| Julia|  20|         0|    null|\n",
      "|Marcin|  22|         1| 12000.0|\n",
      "|Janusz|  30|        10| 10000.0|\n",
      "|Maciej|  29|         9|  5000.0|\n",
      "|Lukasz|null|        32|100000.0|\n",
      "|   Ala|  25|      null|  4000.0|\n",
      "+------+----+----------+--------+\n",
      "\n"
     ]
    }
   ],
   "source": [
    "df.na.drop(thresh=3).show()"
   ]
  },
  {
   "cell_type": "code",
   "execution_count": 61,
   "metadata": {},
   "outputs": [
    {
     "name": "stdout",
     "output_type": "stream",
     "text": [
      "+------+---+----------+-------+\n",
      "|  Name|Age|Experience| Salary|\n",
      "+------+---+----------+-------+\n",
      "|Marcin| 22|         1|12000.0|\n",
      "|Janusz| 30|        10|10000.0|\n",
      "|Maciej| 29|         9| 5000.0|\n",
      "+------+---+----------+-------+\n",
      "\n"
     ]
    }
   ],
   "source": [
    "df.na.drop(thresh=4).show()"
   ]
  },
  {
   "cell_type": "markdown",
   "metadata": {},
   "source": [
    "### Filling the missing values"
   ]
  },
  {
   "cell_type": "code",
   "execution_count": 66,
   "metadata": {},
   "outputs": [
    {
     "name": "stdout",
     "output_type": "stream",
     "text": [
      "+------+---+----------+--------+\n",
      "|  Name|Age|Experience|  Salary|\n",
      "+------+---+----------+--------+\n",
      "| Julia| 20|         0|    null|\n",
      "|Marcin| 22|         1| 12000.0|\n",
      "|Janusz| 30|        10| 10000.0|\n",
      "|Maciej| 29|         9|  5000.0|\n",
      "|Lukasz| -1|        32|100000.0|\n",
      "|   Ala| 25|        -1|  4000.0|\n",
      "+------+---+----------+--------+\n",
      "\n"
     ]
    }
   ],
   "source": [
    "df.na.fill(-1, ['Experience', 'Age']).show()"
   ]
  },
  {
   "cell_type": "code",
   "execution_count": 68,
   "metadata": {},
   "outputs": [],
   "source": [
    "from pyspark.ml.feature import Imputer\n",
    "\n",
    "imputer = Imputer(\n",
    "    inputCols=['Age', 'Experience', 'Salary'],\n",
    "    outputCols=['{}_imputed'.format(c) for c in ['Age', 'Experience', 'Salary']]\n",
    ").setStrategy('mean')"
   ]
  },
  {
   "cell_type": "markdown",
   "metadata": {},
   "source": [
    "### Add imputation cols to df"
   ]
  },
  {
   "cell_type": "code",
   "execution_count": 69,
   "metadata": {},
   "outputs": [
    {
     "name": "stdout",
     "output_type": "stream",
     "text": [
      "+------+----+----------+--------+-----------+------------------+--------------+\n",
      "|  Name| Age|Experience|  Salary|Age_imputed|Experience_imputed|Salary_imputed|\n",
      "+------+----+----------+--------+-----------+------------------+--------------+\n",
      "| Julia|  20|         0|    null|         20|                 0|       26200.0|\n",
      "|Marcin|  22|         1| 12000.0|         22|                 1|       12000.0|\n",
      "|Janusz|  30|        10| 10000.0|         30|                10|       10000.0|\n",
      "|Maciej|  29|         9|  5000.0|         29|                 9|        5000.0|\n",
      "|Lukasz|null|        32|100000.0|         25|                32|      100000.0|\n",
      "|   Ala|  25|      null|  4000.0|         25|                10|        4000.0|\n",
      "+------+----+----------+--------+-----------+------------------+--------------+\n",
      "\n"
     ]
    }
   ],
   "source": [
    "imputer.fit(df).transform(df).show()"
   ]
  },
  {
   "cell_type": "markdown",
   "metadata": {},
   "source": [
    "# 3 - Filter operations"
   ]
  },
  {
   "cell_type": "code",
   "execution_count": 73,
   "metadata": {},
   "outputs": [],
   "source": [
    "imputer = Imputer(\n",
    "    inputCols=['Age', 'Experience', 'Salary'],\n",
    "    outputCols=[c for c in ['Age', 'Experience', 'Salary']]\n",
    ").setStrategy('median')"
   ]
  },
  {
   "cell_type": "code",
   "execution_count": 74,
   "metadata": {},
   "outputs": [
    {
     "name": "stdout",
     "output_type": "stream",
     "text": [
      "+------+---+----------+--------+\n",
      "|  Name|Age|Experience|  Salary|\n",
      "+------+---+----------+--------+\n",
      "| Julia| 20|         0| 26200.0|\n",
      "|Marcin| 22|         1| 12000.0|\n",
      "|Janusz| 30|        10| 10000.0|\n",
      "|Maciej| 29|         9|  5000.0|\n",
      "|Lukasz| 25|        32|100000.0|\n",
      "|   Ala| 25|        10|  4000.0|\n",
      "+------+---+----------+--------+\n",
      "\n"
     ]
    }
   ],
   "source": [
    "df = imputer.fit(df).transform(df)\n",
    "df.show()"
   ]
  },
  {
   "cell_type": "markdown",
   "metadata": {},
   "source": [
    "### Salary of the people less than or equal to 12000"
   ]
  },
  {
   "cell_type": "code",
   "execution_count": 76,
   "metadata": {},
   "outputs": [
    {
     "name": "stdout",
     "output_type": "stream",
     "text": [
      "+------+---+----------+-------+\n",
      "|  Name|Age|Experience| Salary|\n",
      "+------+---+----------+-------+\n",
      "|Marcin| 22|         1|12000.0|\n",
      "|Janusz| 30|        10|10000.0|\n",
      "|Maciej| 29|         9| 5000.0|\n",
      "|   Ala| 25|        10| 4000.0|\n",
      "+------+---+----------+-------+\n",
      "\n"
     ]
    }
   ],
   "source": [
    "df.filter(\"Salary<=12000\").show()"
   ]
  },
  {
   "cell_type": "code",
   "execution_count": 77,
   "metadata": {},
   "outputs": [
    {
     "name": "stdout",
     "output_type": "stream",
     "text": [
      "+------+---+----------+-------+\n",
      "|  Name|Age|Experience| Salary|\n",
      "+------+---+----------+-------+\n",
      "|Marcin| 22|         1|12000.0|\n",
      "|Janusz| 30|        10|10000.0|\n",
      "|Maciej| 29|         9| 5000.0|\n",
      "|   Ala| 25|        10| 4000.0|\n",
      "+------+---+----------+-------+\n",
      "\n"
     ]
    }
   ],
   "source": [
    "df.filter(df.Salary <= 12000).show()"
   ]
  },
  {
   "cell_type": "code",
   "execution_count": 78,
   "metadata": {},
   "outputs": [
    {
     "name": "stdout",
     "output_type": "stream",
     "text": [
      "+------+---+\n",
      "|  Name|Age|\n",
      "+------+---+\n",
      "|Marcin| 22|\n",
      "|Janusz| 30|\n",
      "|Maciej| 29|\n",
      "|   Ala| 25|\n",
      "+------+---+\n",
      "\n"
     ]
    }
   ],
   "source": [
    "df.filter(df.Salary <= 12000).select(['Name','Age']).show()"
   ]
  },
  {
   "cell_type": "code",
   "execution_count": 83,
   "metadata": {},
   "outputs": [
    {
     "name": "stdout",
     "output_type": "stream",
     "text": [
      "+------+---+----------+-------+\n",
      "|  Name|Age|Experience| Salary|\n",
      "+------+---+----------+-------+\n",
      "|Marcin| 22|         1|12000.0|\n",
      "|Janusz| 30|        10|10000.0|\n",
      "|Maciej| 29|         9| 5000.0|\n",
      "+------+---+----------+-------+\n",
      "\n"
     ]
    }
   ],
   "source": [
    "df.filter((df['Salary'] <= 12000) & (df['Salary'] > 4000)).show()"
   ]
  },
  {
   "cell_type": "code",
   "execution_count": 84,
   "metadata": {},
   "outputs": [
    {
     "name": "stdout",
     "output_type": "stream",
     "text": [
      "+------+---+----------+-------+\n",
      "|  Name|Age|Experience| Salary|\n",
      "+------+---+----------+-------+\n",
      "|Marcin| 22|         1|12000.0|\n",
      "|Janusz| 30|        10|10000.0|\n",
      "+------+---+----------+-------+\n",
      "\n"
     ]
    }
   ],
   "source": [
    "df.filter((df.Age == 22) | (df.Age == 30)).show()"
   ]
  },
  {
   "cell_type": "code",
   "execution_count": 85,
   "metadata": {},
   "outputs": [
    {
     "name": "stdout",
     "output_type": "stream",
     "text": [
      "+------+---+----------+--------+\n",
      "|  Name|Age|Experience|  Salary|\n",
      "+------+---+----------+--------+\n",
      "| Julia| 20|         0| 26200.0|\n",
      "|Maciej| 29|         9|  5000.0|\n",
      "|Lukasz| 25|        32|100000.0|\n",
      "|   Ala| 25|        10|  4000.0|\n",
      "+------+---+----------+--------+\n",
      "\n"
     ]
    }
   ],
   "source": [
    "df.filter(~((df.Age == 22) | (df.Age == 30))).show()"
   ]
  },
  {
   "cell_type": "markdown",
   "metadata": {},
   "source": [
    "# 4 - Group by and aggregate functions"
   ]
  },
  {
   "cell_type": "markdown",
   "metadata": {},
   "source": [
    "### Group by"
   ]
  },
  {
   "cell_type": "code",
   "execution_count": 89,
   "metadata": {},
   "outputs": [
    {
     "name": "stdout",
     "output_type": "stream",
     "text": [
      "+------+--------+---------------+-----------+\n",
      "|  Name|sum(Age)|sum(Experience)|sum(Salary)|\n",
      "+------+--------+---------------+-----------+\n",
      "|Janusz|      30|             10|    10000.0|\n",
      "| Julia|      20|              0|    26200.0|\n",
      "|Maciej|      29|              9|     5000.0|\n",
      "|   Ala|      25|             10|     4000.0|\n",
      "|Marcin|      22|              1|    12000.0|\n",
      "|Lukasz|      25|             32|   100000.0|\n",
      "+------+--------+---------------+-----------+\n",
      "\n"
     ]
    }
   ],
   "source": [
    "df.groupBy('Name').sum().show()"
   ]
  },
  {
   "cell_type": "code",
   "execution_count": 91,
   "metadata": {},
   "outputs": [
    {
     "name": "stdout",
     "output_type": "stream",
     "text": [
      "+----------+-----+\n",
      "|Experience|count|\n",
      "+----------+-----+\n",
      "|         1|    1|\n",
      "|         9|    1|\n",
      "|        10|    2|\n",
      "|        32|    1|\n",
      "|         0|    1|\n",
      "+----------+-----+\n",
      "\n"
     ]
    }
   ],
   "source": [
    "df.groupBy('Experience').count().show()"
   ]
  },
  {
   "cell_type": "code",
   "execution_count": 93,
   "metadata": {},
   "outputs": [
    {
     "name": "stdout",
     "output_type": "stream",
     "text": [
      "+------------------+\n",
      "|   avg(Experience)|\n",
      "+------------------+\n",
      "|10.333333333333334|\n",
      "+------------------+\n",
      "\n"
     ]
    }
   ],
   "source": [
    "df.agg({'Experience': 'avg'}).show()"
   ]
  },
  {
   "cell_type": "code",
   "execution_count": 94,
   "metadata": {},
   "outputs": [
    {
     "name": "stdout",
     "output_type": "stream",
     "text": [
      "+-----------+\n",
      "|max(Salary)|\n",
      "+-----------+\n",
      "|   100000.0|\n",
      "+-----------+\n",
      "\n"
     ]
    }
   ],
   "source": [
    "df.agg({'Salary': 'max'}).show()"
   ]
  },
  {
   "cell_type": "markdown",
   "metadata": {},
   "source": [
    "# Example of PySpark ML"
   ]
  },
  {
   "cell_type": "code",
   "execution_count": 95,
   "metadata": {},
   "outputs": [
    {
     "name": "stdout",
     "output_type": "stream",
     "text": [
      "+------+---+----------+--------+\n",
      "|  Name|Age|Experience|  Salary|\n",
      "+------+---+----------+--------+\n",
      "| Julia| 20|         0| 26200.0|\n",
      "|Marcin| 22|         1| 12000.0|\n",
      "|Janusz| 30|        10| 10000.0|\n",
      "|Maciej| 29|         9|  5000.0|\n",
      "|Lukasz| 25|        32|100000.0|\n",
      "|   Ala| 25|        10|  4000.0|\n",
      "+------+---+----------+--------+\n",
      "\n"
     ]
    }
   ],
   "source": [
    "df.show()"
   ]
  },
  {
   "cell_type": "code",
   "execution_count": 96,
   "metadata": {},
   "outputs": [
    {
     "name": "stdout",
     "output_type": "stream",
     "text": [
      "root\n",
      " |-- Name: string (nullable = true)\n",
      " |-- Age: integer (nullable = true)\n",
      " |-- Experience: integer (nullable = true)\n",
      " |-- Salary: double (nullable = true)\n",
      "\n"
     ]
    }
   ],
   "source": [
    "df.printSchema()"
   ]
  },
  {
   "cell_type": "code",
   "execution_count": 97,
   "metadata": {},
   "outputs": [
    {
     "data": {
      "text/plain": [
       "['Name', 'Age', 'Experience', 'Salary']"
      ]
     },
     "execution_count": 97,
     "metadata": {},
     "output_type": "execute_result"
    }
   ],
   "source": [
    "df.columns"
   ]
  },
  {
   "cell_type": "code",
   "execution_count": 99,
   "metadata": {},
   "outputs": [],
   "source": [
    "from pyspark.ml.feature import VectorAssembler\n",
    "featureassembler = VectorAssembler(inputCols=['Age', 'Experience'], outputCol='Independent feature') "
   ]
  },
  {
   "cell_type": "code",
   "execution_count": 100,
   "metadata": {},
   "outputs": [],
   "source": [
    "output = featureassembler.transform(df)"
   ]
  },
  {
   "cell_type": "code",
   "execution_count": 101,
   "metadata": {},
   "outputs": [
    {
     "name": "stdout",
     "output_type": "stream",
     "text": [
      "+------+---+----------+--------+-------------------+\n",
      "|  Name|Age|Experience|  Salary|Independent feature|\n",
      "+------+---+----------+--------+-------------------+\n",
      "| Julia| 20|         0| 26200.0|         [20.0,0.0]|\n",
      "|Marcin| 22|         1| 12000.0|         [22.0,1.0]|\n",
      "|Janusz| 30|        10| 10000.0|        [30.0,10.0]|\n",
      "|Maciej| 29|         9|  5000.0|         [29.0,9.0]|\n",
      "|Lukasz| 25|        32|100000.0|        [25.0,32.0]|\n",
      "|   Ala| 25|        10|  4000.0|        [25.0,10.0]|\n",
      "+------+---+----------+--------+-------------------+\n",
      "\n"
     ]
    }
   ],
   "source": [
    "output.show()"
   ]
  },
  {
   "cell_type": "code",
   "execution_count": 102,
   "metadata": {},
   "outputs": [
    {
     "name": "stdout",
     "output_type": "stream",
     "text": [
      "+-------------------+--------+\n",
      "|Independent feature|  Salary|\n",
      "+-------------------+--------+\n",
      "|         [20.0,0.0]| 26200.0|\n",
      "|         [22.0,1.0]| 12000.0|\n",
      "|        [30.0,10.0]| 10000.0|\n",
      "|         [29.0,9.0]|  5000.0|\n",
      "|        [25.0,32.0]|100000.0|\n",
      "|        [25.0,10.0]|  4000.0|\n",
      "+-------------------+--------+\n",
      "\n"
     ]
    }
   ],
   "source": [
    "finalized_data = output.select(['Independent feature', 'Salary'])\n",
    "finalized_data.show()"
   ]
  },
  {
   "cell_type": "code",
   "execution_count": 104,
   "metadata": {},
   "outputs": [],
   "source": [
    "from pyspark.ml.regression import LinearRegression\n",
    "train_data, test_data = finalized_data.randomSplit([0.75, 0.25])\n",
    "regressor = LinearRegression(featuresCol='Independent feature', labelCol='Salary')\n",
    "regressor = regressor.fit(train_data)"
   ]
  },
  {
   "cell_type": "code",
   "execution_count": 105,
   "metadata": {},
   "outputs": [
    {
     "data": {
      "text/plain": [
       "DenseVector([545.2747, -2456.2637])"
      ]
     },
     "execution_count": 105,
     "metadata": {},
     "output_type": "execute_result"
    }
   ],
   "source": [
    "regressor.coefficients"
   ]
  },
  {
   "cell_type": "code",
   "execution_count": 106,
   "metadata": {},
   "outputs": [
    {
     "data": {
      "text/plain": [
       "14930.7692307697"
      ]
     },
     "execution_count": 106,
     "metadata": {},
     "output_type": "execute_result"
    }
   ],
   "source": [
    "regressor.intercept"
   ]
  },
  {
   "cell_type": "code",
   "execution_count": 117,
   "metadata": {},
   "outputs": [
    {
     "name": "stdout",
     "output_type": "stream",
     "text": [
      "+-------------------+--------+------------------+\n",
      "|Independent feature|  Salary|        prediction|\n",
      "+-------------------+--------+------------------+\n",
      "|         [22.0,1.0]| 12000.0| 24470.54945054943|\n",
      "|        [25.0,32.0]|100000.0|-50037.80219780174|\n",
      "+-------------------+--------+------------------+\n",
      "\n"
     ]
    }
   ],
   "source": [
    "pred_results = regressor.evaluate(test_data)\n",
    "pred_results.predictions.show()"
   ]
  },
  {
   "cell_type": "code",
   "execution_count": 118,
   "metadata": {},
   "outputs": [
    {
     "data": {
      "text/plain": [
       "(81254.17582417559, 11333428345.972641)"
      ]
     },
     "execution_count": 118,
     "metadata": {},
     "output_type": "execute_result"
    }
   ],
   "source": [
    "pred_results.meanAbsoluteError, pred_results.meanSquaredError"
   ]
  }
 ],
 "metadata": {
  "kernelspec": {
   "display_name": "Python 3",
   "language": "python",
   "name": "python3"
  },
  "language_info": {
   "codemirror_mode": {
    "name": "ipython",
    "version": 3
   },
   "file_extension": ".py",
   "mimetype": "text/x-python",
   "name": "python",
   "nbconvert_exporter": "python",
   "pygments_lexer": "ipython3",
   "version": "3.8.3"
  }
 },
 "nbformat": 4,
 "nbformat_minor": 4
}
